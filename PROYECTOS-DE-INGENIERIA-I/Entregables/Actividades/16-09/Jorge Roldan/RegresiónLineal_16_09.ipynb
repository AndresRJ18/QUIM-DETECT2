{
  "nbformat": 4,
  "nbformat_minor": 0,
  "metadata": {
    "colab": {
      "provenance": []
    },
    "kernelspec": {
      "name": "python3",
      "display_name": "Python 3"
    },
    "language_info": {
      "name": "python"
    }
  },
  "cells": [
    {
      "cell_type": "markdown",
      "source": [
        "## Importamos Librerias"
      ],
      "metadata": {
        "id": "WrlB70ZLaT_G"
      }
    },
    {
      "cell_type": "code",
      "source": [
        "import pandas as pd\n",
        "import numpy as np\n",
        "import matplotlib.pyplot as plt\n",
        "from sklearn.model_selection import train_test_split\n",
        "from sklearn.linear_model import LinearRegression\n",
        "from sklearn.metrics import r2_score, mean_absolute_error, mean_squared_error"
      ],
      "metadata": {
        "id": "x6MKBdXOaSH1"
      },
      "execution_count": null,
      "outputs": []
    },
    {
      "cell_type": "markdown",
      "source": [
        "## Cargamos los datasets"
      ],
      "metadata": {
        "id": "b61-mhR0agQi"
      }
    },
    {
      "cell_type": "code",
      "source": [
        "df_2023 = pd.read_csv('data_set_2023.csv')\n",
        "df_2024 = pd.read_csv('data_set_2024.csv')\n",
        "\n",
        "# Unir datasets\n",
        "df = pd.concat([df_2023, df_2024], ignore_index=True)\n",
        "\n",
        "print(\"Tamaño total del dataset:\", df.shape)\n",
        "print(df.head())\n",
        "print(df.columns)"
      ],
      "metadata": {
        "colab": {
          "base_uri": "https://localhost:8080/"
        },
        "id": "keMh-tJwapjw",
        "outputId": "228a71e1-8683-44ea-e56a-0e7f6668ae3f"
      },
      "execution_count": 2,
      "outputs": [
        {
          "output_type": "stream",
          "name": "stdout",
          "text": [
            "Tamaño total del dataset: (73956, 21)\n",
            "         Date Source   Site ID  POC  Daily Mean PM10 Concentration     Units  \\\n",
            "0  01/01/2023    AQS  60070008    3                              7  ug/m3 SC   \n",
            "1  01/02/2023    AQS  60070008    3                              9  ug/m3 SC   \n",
            "2  01/03/2023    AQS  60070008    3                              5  ug/m3 SC   \n",
            "3  01/04/2023    AQS  60070008    3                              4  ug/m3 SC   \n",
            "4  01/05/2023    AQS  60070008    3                              3  ug/m3 SC   \n",
            "\n",
            "   Daily AQI Value    Local Site Name  Daily Obs Count  Percent Complete  ...  \\\n",
            "0                6  Chico-East Avenue                1             100.0  ...   \n",
            "1                8  Chico-East Avenue                1             100.0  ...   \n",
            "2                5  Chico-East Avenue                1             100.0  ...   \n",
            "3                4  Chico-East Avenue                1             100.0  ...   \n",
            "4                3  Chico-East Avenue                1             100.0  ...   \n",
            "\n",
            "   AQS Parameter Description Method Code  CBSA Code  CBSA Name  \\\n",
            "0      PM10 Total 0-10um STP       122.0    17020.0  Chico, CA   \n",
            "1      PM10 Total 0-10um STP       122.0    17020.0  Chico, CA   \n",
            "2      PM10 Total 0-10um STP       122.0    17020.0  Chico, CA   \n",
            "3      PM10 Total 0-10um STP       122.0    17020.0  Chico, CA   \n",
            "4      PM10 Total 0-10um STP       122.0    17020.0  Chico, CA   \n",
            "\n",
            "  State FIPS Code       State County FIPS Code  County Site Latitude  \\\n",
            "0               6  California                7   Butte      39.76168   \n",
            "1               6  California                7   Butte      39.76168   \n",
            "2               6  California                7   Butte      39.76168   \n",
            "3               6  California                7   Butte      39.76168   \n",
            "4               6  California                7   Butte      39.76168   \n",
            "\n",
            "   Site Longitude  \n",
            "0      -121.84047  \n",
            "1      -121.84047  \n",
            "2      -121.84047  \n",
            "3      -121.84047  \n",
            "4      -121.84047  \n",
            "\n",
            "[5 rows x 21 columns]\n",
            "Index(['Date', 'Source', 'Site ID', 'POC', 'Daily Mean PM10 Concentration',\n",
            "       'Units', 'Daily AQI Value', 'Local Site Name', 'Daily Obs Count',\n",
            "       'Percent Complete', 'AQS Parameter Code', 'AQS Parameter Description',\n",
            "       'Method Code', 'CBSA Code', 'CBSA Name', 'State FIPS Code', 'State',\n",
            "       'County FIPS Code', 'County', 'Site Latitude', 'Site Longitude'],\n",
            "      dtype='object')\n"
          ]
        }
      ]
    },
    {
      "cell_type": "markdown",
      "source": [
        "## Procesamos la fecha y agrupamos por mes"
      ],
      "metadata": {
        "id": "7GdEWBevawa7"
      }
    },
    {
      "cell_type": "code",
      "source": [
        "df['Date'] = pd.to_datetime(df['Date'])\n",
        "df['Month'] = df['Date'].dt.month\n",
        "\n",
        "# Agrupar por mes (promedio de variables relevantes)\n",
        "df_monthly = df.groupby('Month').agg({\n",
        "    'Daily Mean PM10 Concentration': 'mean',\n",
        "    'Daily AQI Value': 'mean',\n",
        "    'Daily Obs Count': 'mean',\n",
        "    'Percent Complete': 'mean'\n",
        "}).reset_index()\n",
        "\n",
        "print(\"\\nDatos mensuales procesados:\")\n",
        "print(df_monthly.head())"
      ],
      "metadata": {
        "colab": {
          "base_uri": "https://localhost:8080/"
        },
        "id": "u39j-y2Da3tZ",
        "outputId": "f71ea780-6aa3-42f7-9328-26ffcdbba731"
      },
      "execution_count": 3,
      "outputs": [
        {
          "output_type": "stream",
          "name": "stdout",
          "text": [
            "\n",
            "Datos mensuales procesados:\n",
            "   Month  Daily Mean PM10 Concentration  Daily AQI Value  Daily Obs Count  \\\n",
            "0      1                      15.103689        13.727938              1.0   \n",
            "1      2                      16.188439        14.353191              1.0   \n",
            "2      3                      13.911957        12.584461              1.0   \n",
            "3      4                      21.210018        19.098519              1.0   \n",
            "4      5                      23.406500        21.286904              1.0   \n",
            "\n",
            "   Percent Complete  \n",
            "0             100.0  \n",
            "1             100.0  \n",
            "2             100.0  \n",
            "3             100.0  \n",
            "4             100.0  \n"
          ]
        }
      ]
    },
    {
      "cell_type": "markdown",
      "source": [
        "## Definimos las variables x (predictoras), y (targets)"
      ],
      "metadata": {
        "id": "kDLMNipaa8Y9"
      }
    },
    {
      "cell_type": "code",
      "source": [
        "X = df_monthly[['Month', 'Daily AQI Value', 'Daily Obs Count', 'Percent Complete']]\n",
        "y = df_monthly['Daily Mean PM10 Concentration']"
      ],
      "metadata": {
        "id": "WQXXoo1fbKH4"
      },
      "execution_count": 4,
      "outputs": []
    },
    {
      "cell_type": "markdown",
      "source": [
        "## Dividimos en entrenamiento y prueba"
      ],
      "metadata": {
        "id": "RvkKAiyFbRdQ"
      }
    },
    {
      "cell_type": "code",
      "source": [
        "X_train, X_test, y_train, y_test = train_test_split(\n",
        "    X, y, test_size=0.3, random_state=42)"
      ],
      "metadata": {
        "id": "P7sSFSlMbWZb"
      },
      "execution_count": 5,
      "outputs": []
    },
    {
      "cell_type": "markdown",
      "source": [
        "## Entrenamos el modelo"
      ],
      "metadata": {
        "id": "4Ol48V-Cbc9v"
      }
    },
    {
      "cell_type": "code",
      "source": [
        "modelo = LinearRegression()\n",
        "modelo.fit(X_train, y_train)\n",
        "\n",
        "print(\"\\nIntercepto:\", modelo.intercept_)\n",
        "print(\"Coeficientes:\", modelo.coef_)"
      ],
      "metadata": {
        "colab": {
          "base_uri": "https://localhost:8080/"
        },
        "id": "5X0xjtwDbg6j",
        "outputId": "62df45ef-fb9e-41fc-eb7a-8ef523dc755b"
      },
      "execution_count": 6,
      "outputs": [
        {
          "output_type": "stream",
          "name": "stdout",
          "text": [
            "\n",
            "Intercepto: 0.40553631230614684\n",
            "Coeficientes: [-5.73171558e-04  1.08593934e+00  0.00000000e+00  0.00000000e+00]\n"
          ]
        }
      ]
    },
    {
      "cell_type": "markdown",
      "source": [
        "## Evaluamos"
      ],
      "metadata": {
        "id": "wKrh5rbObsvL"
      }
    },
    {
      "cell_type": "code",
      "source": [
        "y_pred = modelo.predict(X_test)\n",
        "\n",
        "print(\"\\nEvaluación del modelo (test):\")\n",
        "print(\"R²:\", r2_score(y_test, y_pred))\n",
        "print(\"MAE:\", mean_absolute_error(y_test, y_pred))\n",
        "print(\"RMSE:\", np.sqrt(mean_squared_error(y_test, y_pred)))"
      ],
      "metadata": {
        "colab": {
          "base_uri": "https://localhost:8080/"
        },
        "id": "zMcED027btsB",
        "outputId": "16493fd5-8df1-4c49-f724-6f1e45fd7f10"
      },
      "execution_count": 7,
      "outputs": [
        {
          "output_type": "stream",
          "name": "stdout",
          "text": [
            "\n",
            "Evaluación del modelo (test):\n",
            "R²: 0.9832293208130777\n",
            "MAE: 0.7551071656041519\n",
            "RMSE: 0.9162549321767207\n"
          ]
        }
      ]
    },
    {
      "cell_type": "markdown",
      "source": [
        "## Comparamos"
      ],
      "metadata": {
        "id": "UnuED2agbyzg"
      }
    },
    {
      "cell_type": "code",
      "source": [
        "plt.scatter(y_test, y_pred, color='blue')\n",
        "plt.xlabel(\"Valores reales PM10\")\n",
        "plt.ylabel(\"Valores predichos PM10\")\n",
        "plt.title(\"Regresión Lineal Múltiple - Reales vs Predichos\")\n",
        "plt.plot([y.min(), y.max()], [y.min(), y.max()], color='red', linestyle='--')\n",
        "plt.show()"
      ],
      "metadata": {
        "colab": {
          "base_uri": "https://localhost:8080/",
          "height": 472
        },
        "id": "aNYD1wZrb00w",
        "outputId": "073ae433-fc1d-41ad-cb0f-d44a2d319679"
      },
      "execution_count": 8,
      "outputs": [
        {
          "output_type": "display_data",
          "data": {
            "text/plain": [
              "<Figure size 640x480 with 1 Axes>"
            ],
            "image/png": "[encoded data removed]"
          },
          "metadata": {}
        }
      ]
    },
    {
      "cell_type": "markdown",
      "source": [
        "## Cargamos el dataset del 2025"
      ],
      "metadata": {
        "id": "wspgIKA2cqy8"
      }
    },
    {
      "cell_type": "code",
      "source": [
        "df_2025 = pd.read_csv('data_set_2025.csv')\n",
        "df_2025['Date'] = pd.to_datetime(df_2025['Date'])\n",
        "df_2025['Month'] = df_2025['Date'].dt.month\n",
        "\n",
        "# Agrupamos igual que en 2023-2024\n",
        "df_2025_monthly = df_2025.groupby('Month').agg({\n",
        "    'Daily Mean PM10 Concentration': 'mean',\n",
        "    'Daily AQI Value': 'mean',\n",
        "    'Daily Obs Count': 'mean',\n",
        "    'Percent Complete': 'mean'\n",
        "}).reset_index()\n",
        "\n",
        "print(\"\\nDatos de 2025 procesados:\")\n",
        "print(df_2025_monthly.head())"
      ],
      "metadata": {
        "colab": {
          "base_uri": "https://localhost:8080/"
        },
        "id": "pePD-7scct2k",
        "outputId": "cda2f20e-766b-4241-b3ce-a31eef138349"
      },
      "execution_count": 9,
      "outputs": [
        {
          "output_type": "stream",
          "name": "stdout",
          "text": [
            "\n",
            "Datos de 2025 procesados:\n",
            "   Month  Daily Mean PM10 Concentration  Daily AQI Value  Daily Obs Count  \\\n",
            "0      1                      24.966091        22.230646              1.0   \n",
            "1      2                      16.137980        14.673002              1.0   \n",
            "2      3                      16.531200        14.781440              1.0   \n",
            "3      4                      20.999289        19.042689              1.0   \n",
            "4      5                      26.741172        24.151868              1.0   \n",
            "\n",
            "   Percent Complete  \n",
            "0             100.0  \n",
            "1             100.0  \n",
            "2             100.0  \n",
            "3             100.0  \n",
            "4             100.0  \n"
          ]
        }
      ]
    },
    {
      "cell_type": "markdown",
      "source": [
        "## Hacemos la predicción para 2025"
      ],
      "metadata": {
        "id": "GObuxN_hc0YM"
      }
    },
    {
      "cell_type": "code",
      "source": [
        "X_2025 = df_2025_monthly[['Month', 'Daily AQI Value', 'Daily Obs Count', 'Percent Complete']]\n",
        "y_2025_real = df_2025_monthly['Daily Mean PM10 Concentration']\n",
        "y_2025_pred = modelo.predict(X_2025)"
      ],
      "metadata": {
        "id": "QyIIHlpjc25m"
      },
      "execution_count": 10,
      "outputs": []
    },
    {
      "cell_type": "code",
      "source": [
        "#Comparamos la predicción vs el real\n",
        "comparacion_2025 = pd.DataFrame({\n",
        "    'Month': df_2025_monthly['Month'],\n",
        "    'Predicción PM10 (µg/m³)': y_2025_pred,\n",
        "    'Real PM10 (µg/m³)': y_2025_real})"
      ],
      "metadata": {
        "id": "S8GIUZ4Fc6UK"
      },
      "execution_count": 12,
      "outputs": []
    },
    {
      "cell_type": "code",
      "source": [
        "# Calculamos el error porcentual por mes\n",
        "comparacion_2025['Error (%)'] = ((comparacion_2025['Predicción PM10 (µg/m³)'] - comparacion_2025['Real PM10 (µg/m³)'])\n",
        "                                / comparacion_2025['Real PM10 (µg/m³)']) * 100\n",
        "\n",
        "print(\"Comparación predicciones vs reales (2025):\")\n",
        "print(comparacion_2025)"
      ],
      "metadata": {
        "colab": {
          "base_uri": "https://localhost:8080/"
        },
        "id": "KaL57RlfdBpI",
        "outputId": "a46a7c85-d13f-4aed-d299-e1a03bf495cd"
      },
      "execution_count": 16,
      "outputs": [
        {
          "output_type": "stream",
          "name": "stdout",
          "text": [
            "Comparación predicciones vs reales (2025):\n",
            "   Month  Predicción PM10 (µg/m³)  Real PM10 (µg/m³)  Error (%)\n",
            "0      1                24.546096          24.966091  -1.682259\n",
            "1      2                16.338381          16.137980   1.241798\n",
            "2      3                16.455564          16.531200  -0.457535\n",
            "3      4                21.082449          20.999289   0.396017\n",
            "4      5                26.630135          26.741172  -0.415232\n",
            "5      6                28.382815          28.412068  -0.102960\n",
            "6      7                23.880310          23.622976   1.089339\n",
            "7      8                29.533981          29.721987  -0.632547\n",
            "8      9                27.216641          27.707510  -1.771609\n"
          ]
        }
      ]
    },
    {
      "cell_type": "markdown",
      "source": [
        "## Evaluamos la métrica global"
      ],
      "metadata": {
        "id": "imig7_O-dF5F"
      }
    },
    {
      "cell_type": "code",
      "source": [
        "mape_2025 = np.mean(np.abs(comparacion_2025['Error (%)']))\n",
        "precision_2025 = 100 - mape_2025\n",
        "\n",
        "print(f\"MAPE (2025): {mape_2025:.2f}%\")\n",
        "print(f\"Precisión del modelo en 2025: {precision_2025:.2f}%\")"
      ],
      "metadata": {
        "colab": {
          "base_uri": "https://localhost:8080/"
        },
        "id": "rypp8znldHw6",
        "outputId": "742c9e6e-6019-4d64-ba7b-0f0ddd13d62b"
      },
      "execution_count": 15,
      "outputs": [
        {
          "output_type": "stream",
          "name": "stdout",
          "text": [
            "MAPE (2025): 0.87%\n",
            "Precisión del modelo en 2025: 99.13%\n"
          ]
        }
      ]
    }
  ]
}